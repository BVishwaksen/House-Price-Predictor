{
 "cells": [
  {
   "cell_type": "code",
   "execution_count": 1,
   "metadata": {},
   "outputs": [],
   "source": [
    "#importing modules and loading the model\n",
    "import pickle\n",
    "import numpy\n",
    "filename = 'houseprice_model.sav'\n",
    "house_model = pickle.load(open(filename,'rb'))"
   ]
  },
  {
   "cell_type": "code",
   "execution_count": 2,
   "metadata": {},
   "outputs": [],
   "source": [
    "#Setting the properties of the house\n",
    "house_properties = [[0.27634,0.1,8.63,1,0.462,19.045,69.5,2.1137,7,362,11.4,421.36,2.86]]\n",
    "house_data = numpy.array(house_properties)\n",
    "house_price = house_model.predict(house_data)"
   ]
  },
  {
   "cell_type": "code",
   "execution_count": 3,
   "metadata": {},
   "outputs": [
    {
     "name": "stdout",
     "output_type": "stream",
     "text": [
      "The price of house is  85.3422363089599\n"
     ]
    }
   ],
   "source": [
    "#Displaying the result\n",
    "print(\"The price of house is \",house_price[0][0])"
   ]
  }
 ],
 "metadata": {
  "kernelspec": {
   "display_name": "Python 3",
   "language": "python",
   "name": "python3"
  },
  "language_info": {
   "codemirror_mode": {
    "name": "ipython",
    "version": 3
   },
   "file_extension": ".py",
   "mimetype": "text/x-python",
   "name": "python",
   "nbconvert_exporter": "python",
   "pygments_lexer": "ipython3",
   "version": "3.5.0"
  }
 },
 "nbformat": 4,
 "nbformat_minor": 2
}
